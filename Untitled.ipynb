{
 "cells": [
  {
   "cell_type": "code",
   "execution_count": 12,
   "id": "6a7fbee5",
   "metadata": {},
   "outputs": [],
   "source": [
    "import time\n",
    "\n",
    "class MyTime:\n",
    "    def __init__(self):\n",
    "        self.localtime = time.localtime() # 取得 struct_time 格式的時間\n",
    "        \n",
    "    def get_strftime(self):\n",
    "        return time.strftime(\"%y-%m-%d, %H:%M:%S\", self.localtime) # 依指定格式輸出\n"
   ]
  },
  {
   "cell_type": "code",
   "execution_count": 1,
   "id": "60b66c81",
   "metadata": {},
   "outputs": [
    {
     "ename": "ModuleNotFoundError",
     "evalue": "No module named 'myfuncs'",
     "output_type": "error",
     "traceback": [
      "\u001b[0;31m---------------------------------------------------------------------------\u001b[0m",
      "\u001b[0;31mModuleNotFoundError\u001b[0m                       Traceback (most recent call last)",
      "\u001b[0;32m<ipython-input-1-c63ea87ef469>\u001b[0m in \u001b[0;36m<module>\u001b[0;34m\u001b[0m\n\u001b[1;32m      1\u001b[0m \u001b[0;32mimport\u001b[0m \u001b[0mrequests\u001b[0m\u001b[0;34m\u001b[0m\u001b[0;34m\u001b[0m\u001b[0m\n\u001b[1;32m      2\u001b[0m \u001b[0;32mfrom\u001b[0m \u001b[0mbs4\u001b[0m \u001b[0;32mimport\u001b[0m \u001b[0mBeautifulSoup\u001b[0m \u001b[0;32mas\u001b[0m \u001b[0mbs\u001b[0m\u001b[0;34m\u001b[0m\u001b[0;34m\u001b[0m\u001b[0m\n\u001b[0;32m----> 3\u001b[0;31m \u001b[0;32mfrom\u001b[0m \u001b[0mmyfuncs\u001b[0m \u001b[0;32mimport\u001b[0m \u001b[0mp\u001b[0m\u001b[0;34m\u001b[0m\u001b[0;34m\u001b[0m\u001b[0m\n\u001b[0m\u001b[1;32m      4\u001b[0m \u001b[0;34m\u001b[0m\u001b[0m\n\u001b[1;32m      5\u001b[0m \u001b[0;32mclass\u001b[0m \u001b[0mHtmlScrapy\u001b[0m\u001b[0;34m(\u001b[0m\u001b[0;34m)\u001b[0m\u001b[0;34m:\u001b[0m\u001b[0;34m\u001b[0m\u001b[0;34m\u001b[0m\u001b[0m\n",
      "\u001b[0;31mModuleNotFoundError\u001b[0m: No module named 'myfuncs'"
     ]
    }
   ],
   "source": [
    "import requests\n",
    "from bs4 import BeautifulSoup as bs\n",
    "from myfuncs import p\n",
    "\n",
    "class HtmlScrapy():\n",
    "    def __init__(self, url):\n",
    "\n",
    "        headers = {'user-agent': 'Mozilla/5.0 (Macintosh; Intel Mac OS X 10_15_7) AppleWebKit/537.36 (KHTML, like Gecko) Chrome/90.0.4430.212 Safari/537.36?'}\n",
    "#         res = requests.get(url)　\n",
    "        res = requests.get(url, headers=headers)\n",
    "        self.soup = bs(res.text, \"html.parser\")\n",
    "        self.result = self.soup.prettify() \\\n",
    "            if res.status_code == 200 else 'Something Error'\n",
    "        \n",
    "    def get_html(self):\n",
    "        return self.result\n",
    "    \n",
    "    def get_imglink(self, n = 1):\n",
    "        self.imglink = self.soup.find_all('img', class_='rg_i Q4LuWd', limit=n) if n > 1 \\\n",
    "            else self.soup.find('img', class_='rg_i Q4LuWd')\n",
    "                        \n",
    "        return self.imglink\n",
    "        \n",
    "    def get_tag(self, n=1):\n",
    "        p = { 'class_': 'rg_i Q4LuWd' }\n",
    "        return self.soup.find_all('img', **p, limit=n)\n",
    "        \n",
    "#         return self.imglink        \n",
    "#         for imglink in imgliks:\n",
    "#             print(imglink)\n",
    "#             print(imglink.get('alt'))\n",
    "        \n",
    "mt = MyTime()\n",
    "strf_ntime = mt.get_strftime()\n",
    "url = 'https://www.google.com.tw/search?q=iu&tbm=isch'\n",
    "hs = HtmlScrapy(url)\n",
    "\n",
    "p(hs.get_tag(8))\n",
    "\n",
    "# p(pybase64.b64decode(\"R0lGODlhAQABAIAAAP///////yH5BAEKAAEALAAAAAABAAEAAAICTAEAOw==\"))\n",
    "# p(gs.get_imglink())\n",
    "# p(gs.get_imglink())\n",
    "\n",
    "# with open(f'../temp-file/{strf_ntime}.html', 'w') as f:\n",
    "# #      f.write(hs.get_html())\n",
    "#     f.write(str(hs.get_imglink()))\n",
    "    \n",
    "# p(gs.get_html())\n",
    "\n",
    "# p(gs.get_imglink()）"
   ]
  },
  {
   "cell_type": "code",
   "execution_count": 101,
   "id": "d5a1c8c9",
   "metadata": {},
   "outputs": [
    {
     "name": "stdout",
     "output_type": "stream",
     "text": [
      "cp.local\n"
     ]
    }
   ],
   "source": [
    "import socket\n",
    "print(socket.gethostname())"
   ]
  }
 ],
 "metadata": {
  "kernelspec": {
   "display_name": "Python 3",
   "language": "python",
   "name": "python3"
  },
  "language_info": {
   "codemirror_mode": {
    "name": "ipython",
    "version": 3
   },
   "file_extension": ".py",
   "mimetype": "text/x-python",
   "name": "python",
   "nbconvert_exporter": "python",
   "pygments_lexer": "ipython3",
   "version": "3.9.5"
  }
 },
 "nbformat": 4,
 "nbformat_minor": 5
}
